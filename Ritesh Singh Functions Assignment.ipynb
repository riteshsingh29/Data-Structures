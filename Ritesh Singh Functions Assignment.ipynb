{
 "cells": [
  {
   "cell_type": "markdown",
   "id": "a6e9059a",
   "metadata": {},
   "source": [
    "## What is the difference between a function and a method in Python?\n",
    "\n",
    "A function is a block of reusable code that performs a specific task. It is defined using the `def` keyword and can be called independently.\n",
    "\n",
    "A method is a function that is associated with an object and is called on that object. Methods are typically defined inside classes and have `self` as their first parameter.\n",
    "\n",
    "**Example:**\n",
    "```python\n",
    "def greet():\n",
    "    return 'Hello!'\n",
    "print(greet())  # Function call\n",
    "\n",
    "class Person:\n",
    "    def say_hello(self):\n",
    "        return 'Hello from a method!'\n",
    "\n",
    "p = Person()\n",
    "print(p.say_hello())  # Method call\n",
    "```"
   ]
  },
  {
   "cell_type": "markdown",
   "id": "cece9600",
   "metadata": {},
   "source": [
    "## Explain the concept of function arguments and parameters in Python.\n",
    "\n",
    "Parameters are variables listed in a function's definition, while arguments are actual values passed to the function when it is called.\n",
    "\n",
    "**Example:**\n",
    "```python\n",
    "def add(a, b):  # 'a' and 'b' are parameters\n",
    "    return a + b\n",
    "\n",
    "result = add(5, 3)  # '5' and '3' are arguments\n",
    "print(result)  # Output: 8\n",
    "```"
   ]
  },
  {
   "cell_type": "markdown",
   "id": "982d4998",
   "metadata": {},
   "source": [
    "## What are the different ways to define and call a function in Python?\n",
    "\n",
    "Functions in Python can be defined using the `def` keyword and called using their name followed by parentheses. Functions can also be defined using lambda expressions.\n",
    "\n",
    "**Example:**\n",
    "```python\n",
    "# Regular function\n",
    "def square(x):\n",
    "    return x * x\n",
    "print(square(4))  # Output: 16\n",
    "\n",
    "# Lambda function\n",
    "square_lambda = lambda x: x * x\n",
    "print(square_lambda(4))  # Output: 16\n",
    "```"
   ]
  },
  {
   "cell_type": "markdown",
   "id": "1398998a",
   "metadata": {},
   "source": [
    "## What is the purpose of the `return` statement in a Python function?\n",
    "\n",
    "The `return` statement is used to send a value back to the caller from a function.\n",
    "\n",
    "**Example:**\n",
    "```python\n",
    "def multiply(a, b):\n",
    "    return a * b\n",
    "\n",
    "result = multiply(3, 4)\n",
    "print(result)  # Output: 12\n",
    "```"
   ]
  },
  {
   "cell_type": "markdown",
   "id": "6bed8fdc",
   "metadata": {},
   "source": [
    "## What are iterators in Python and how do they differ from iterables?\n",
    "\n",
    "An iterable is an object that can be looped over (like a list or tuple). An iterator is an object that produces values one at a time using the `__next__()` method.\n",
    "\n",
    "**Example:**\n",
    "```python\n",
    "my_list = [1, 2, 3]\n",
    "iterator = iter(my_list)\n",
    "print(next(iterator))  # Output: 1\n",
    "print(next(iterator))  # Output: 2\n",
    "```"
   ]
  },
  {
   "cell_type": "markdown",
   "id": "a8508012",
   "metadata": {},
   "source": [
    "## Explain the concept of generators in Python and how they are defined.\n",
    "\n",
    "Generators are special iterators that produce values lazily using the `yield` keyword, which makes them memory-efficient.\n",
    "\n",
    "**Example:**\n",
    "```python\n",
    "def my_generator():\n",
    "    yield 1\n",
    "    yield 2\n",
    "    yield 3\n",
    "\n",
    "gen = my_generator()\n",
    "print(next(gen))  # Output: 1\n",
    "```"
   ]
  },
  {
   "cell_type": "markdown",
   "id": "4f8bb08d",
   "metadata": {},
   "source": [
    "## What are the advantages of using generators over regular functions?\n",
    "\n",
    "Generators are more memory-efficient because they produce values one at a time instead of storing them all in memory.\n",
    "\n",
    "**Example:**\n",
    "```python\n",
    "def count_up_to(n):\n",
    "    count = 1\n",
    "    while count <= n:\n",
    "        yield count\n",
    "        count += 1\n",
    "\n",
    "counter = count_up_to(3)\n",
    "print(next(counter))  # Output: 1\n",
    "```"
   ]
  },
  {
   "cell_type": "markdown",
   "id": "37ce1cbe",
   "metadata": {},
   "source": [
    "## What is a lambda function in Python and when is it typically used?\n",
    "\n",
    "A lambda function is an anonymous function defined using the `lambda` keyword. It is used for short, throwaway functions.\n",
    "\n",
    "**Example:**\n",
    "```python\n",
    "double = lambda x: x * 2\n",
    "print(double(5))  # Output: 10\n",
    "```"
   ]
  },
  {
   "cell_type": "markdown",
   "id": "c7df6dbe",
   "metadata": {},
   "source": [
    "## Explain the purpose and usage of the `map()` function in Python.\n",
    "\n",
    "`map()` applies a function to all elements in an iterable.\n",
    "\n",
    "**Example:**\n",
    "```python\n",
    "nums = [1, 2, 3]\n",
    "squared = map(lambda x: x ** 2, nums)\n",
    "print(list(squared))  # Output: [1, 4, 9]\n",
    "```"
   ]
  },
  {
   "cell_type": "markdown",
   "id": "58b6cc1d",
   "metadata": {},
   "source": [
    "## What is the difference between `map()`, `reduce()`, and `filter()` functions in Python?\n",
    "\n",
    "- `map()`: Applies a function to all elements in an iterable.\n",
    "- `filter()`: Returns elements that satisfy a condition.\n",
    "- `reduce()`: Applies a function cumulatively to the elements (requires `functools.reduce`).\n",
    "\n",
    "**Example:**\n",
    "```python\n",
    "from functools import reduce\n",
    "\n",
    "nums = [1, 2, 3, 4]\n",
    "doubled = list(map(lambda x: x * 2, nums))\n",
    "filtered = list(filter(lambda x: x % 2 == 0, nums))\n",
    "sum_all = reduce(lambda x, y: x + y, nums)\n",
    "\n",
    "print(doubled)  # Output: [2, 4, 6, 8]\n",
    "print(filtered)  # Output: [2, 4]\n",
    "print(sum_all)   # Output: 10\n",
    "```"
   ]
  },
  {
   "cell_type": "markdown",
   "id": "a27360a3",
   "metadata": {},
   "source": [
    "##  Using pen & Paper write the internal mechanism for sum operation using  reduce function on this given\n",
    "\n",
    "list:[47,11,42,13];"
![Alt Text](.https://github.com/riteshsingh29/Data-Structures/blob/main/WhatsApp%20Image%202025-02-11%20at%206.57.03%20PM.jpeg)
   ]
  },
  {
   "cell_type": "code",
   "execution_count": 13,
   "id": "9e7f6af1",
   "metadata": {},
   "outputs": [
    {
     "name": "stdout",
     "output_type": "stream",
     "text": [
      "12\n"
     ]
    }
   ],
   "source": [
    "### 1. Write a Python function that takes a list of numbers as input and returns the sum of all even numbers in the list.\n",
    "def sum_even_numbers(numbers):\n",
    "    return sum(num for num in numbers if num % 2 == 0)\n",
    "\n",
    "# Example usage:\n",
    "nums = [1, 2, 3, 4, 5, 6]\n",
    "print(sum_even_numbers(nums))  # Output: 12\n"
   ]
  },
  {
   "cell_type": "code",
   "execution_count": 4,
   "id": "3999b19c",
   "metadata": {},
   "outputs": [
    {
     "name": "stdout",
     "output_type": "stream",
     "text": [
      "olleH\n"
     ]
    }
   ],
   "source": [
    "\n",
    "### 2. Create a Python function that accepts a string and returns the reverse of that string.\n",
    "def reverse_string(s):\n",
    "    return s[::-1]\n",
    "\n",
    "# Example usage:\n",
    "print(reverse_string(\"Hello\"))  # Output: \"olleH\" \n"
   ]
  },
  {
   "cell_type": "code",
   "execution_count": 5,
   "id": "1d684cfa",
   "metadata": {},
   "outputs": [
    {
     "name": "stdout",
     "output_type": "stream",
     "text": [
      "[1, 4, 9, 16]\n"
     ]
    }
   ],
   "source": [
    "\n",
    "### 3. Implement a Python function that takes a list of integers and returns a new list containing the squares of each number.\n",
    "def square_numbers(numbers):\n",
    "    return [num ** 2 for num in numbers]\n",
    "\n",
    "# Example usage:\n",
    "nums = [1, 2, 3, 4]\n",
    "print(square_numbers(nums))  # Output: [1, 4, 9, 16]\n"
   ]
  },
  {
   "cell_type": "code",
   "execution_count": 6,
   "id": "5069d087",
   "metadata": {},
   "outputs": [
    {
     "name": "stdout",
     "output_type": "stream",
     "text": [
      "True\n",
      "False\n"
     ]
    }
   ],
   "source": [
    "### 4. Write a Python function that checks if a given number is prime or not from 1 to 200.\n",
    "def is_prime(n):\n",
    "    if n < 2:\n",
    "        return False\n",
    "    for i in range(2, int(n**0.5) + 1):\n",
    "        if n % i == 0:\n",
    "            return False\n",
    "    return True\n",
    "\n",
    "# Example usage:\n",
    "print(is_prime(17))  # Output: True\n",
    "print(is_prime(18))  # Output: False\n"
   ]
  },
  {
   "cell_type": "code",
   "execution_count": 7,
   "id": "d235a5bb",
   "metadata": {},
   "outputs": [
    {
     "name": "stdout",
     "output_type": "stream",
     "text": [
      "[0, 1, 1, 2, 3, 5, 8, 13, 21, 34]\n"
     ]
    }
   ],
   "source": [
    "### 5. Create an iterator class in Python that generates the Fibonacci sequence up to a specified number of terms.\n",
    "class FibonacciIterator:\n",
    "    def __init__(self, n_terms):\n",
    "        self.n_terms = n_terms\n",
    "        self.a, self.b = 0, 1\n",
    "        self.count = 0\n",
    "\n",
    "    def __iter__(self):\n",
    "        return self\n",
    "\n",
    "    def __next__(self):\n",
    "        if self.count >= self.n_terms:\n",
    "            raise StopIteration\n",
    "        self.count += 1\n",
    "        fib_num = self.a\n",
    "        self.a, self.b = self.b, self.a + self.b\n",
    "        return fib_num\n",
    "\n",
    "# Example usage:\n",
    "fib = FibonacciIterator(10)\n",
    "print(list(fib))\n"
   ]
  },
  {
   "cell_type": "code",
   "execution_count": 8,
   "id": "9bb708ca",
   "metadata": {},
   "outputs": [
    {
     "name": "stdout",
     "output_type": "stream",
     "text": [
      "[1, 2, 4, 8, 16, 32]\n"
     ]
    }
   ],
   "source": [
    "### 6. Write a generator function in Python that yields the powers of 2 up to a given exponent.\n",
    "def power_of_2(exponent):\n",
    "    for i in range(exponent + 1):\n",
    "        yield 2 ** i\n",
    "\n",
    "# Example usage:\n",
    "print(list(power_of_2(5)))  # Output: [1, 2, 4, 8, 16, 32]\n"
   ]
  },
  {
   "cell_type": "code",
   "execution_count": 9,
   "id": "c165030b",
   "metadata": {},
   "outputs": [],
   "source": [
    "### 7. Implement a generator function that reads a file line by line and yields each line as a string.\n",
    "def read_file_line_by_line(filename):\n",
    "    with open(filename, 'r') as file:\n",
    "        for line in file:\n",
    "            yield line.strip()\n",
    "\n",
    "# Example usage (assuming 'sample.txt' exists):\n",
    "# for line in read_file_line_by_line('sample.txt'):\n",
    "#     print(line)\n"
   ]
  },
  {
   "cell_type": "code",
   "execution_count": 10,
   "id": "d9f90ed2",
   "metadata": {},
   "outputs": [
    {
     "name": "stdout",
     "output_type": "stream",
     "text": [
      "[(4, 1), (2, 2), (1, 3)]\n"
     ]
    }
   ],
   "source": [
    "### 8. Use a lambda function in Python to sort a list of tuples based on the second element of each tuple.\n",
    "tuples_list = [(1, 3), (4, 1), (2, 2)]\n",
    "sorted_tuples = sorted(tuples_list, key=lambda x: x[1])\n",
    "print(sorted_tuples)  # Output: [(4, 1), (2, 2), (1, 3)]\n"
   ]
  },
  {
   "cell_type": "code",
   "execution_count": 11,
   "id": "d4caabfd",
   "metadata": {},
   "outputs": [
    {
     "name": "stdout",
     "output_type": "stream",
     "text": [
      "[32.0, 68.0, 86.0, 104.0]\n"
     ]
    }
   ],
   "source": [
    "### 9. Write a Python program that uses map() to convert a list of temperatures from Celsius to Fahrenheit.\n",
    "celsius_temps = [0, 20, 30, 40]\n",
    "fahrenheit_temps = list(map(lambda c: (c * 9/5) + 32, celsius_temps))\n",
    "print(fahrenheit_temps)  # Output: [32.0, 68.0, 86.0, 104.0]\n"
   ]
  },
  {
   "cell_type": "code",
   "execution_count": 12,
   "id": "130f8977",
   "metadata": {},
   "outputs": [
    {
     "name": "stdout",
     "output_type": "stream",
     "text": [
      "Hll Wrld\n"
     ]
    }
   ],
   "source": [
    "### 10. Create a Python program that uses filter() to remove all the vowels from a given string.\n",
    "def remove_vowels(s):\n",
    "    return ''.join(filter(lambda ch: ch.lower() not in 'aeiou', s))\n",
    "\n",
    "# Example usage:\n",
    "print(remove_vowels(\"Hello World\"))  # Output: \"Hll Wrld\" "
   ]
  }
 ],
 "metadata": {
  "kernelspec": {
   "display_name": "Python 3",
   "language": "python",
   "name": "python3"
  },
  "language_info": {
   "codemirror_mode": {
    "name": "ipython",
    "version": 3
   },
   "file_extension": ".py",
   "mimetype": "text/x-python",
   "name": "python",
   "nbconvert_exporter": "python",
   "pygments_lexer": "ipython3",
   "version": "3.12.2"
  }
 },
 "nbformat": 4,
 "nbformat_minor": 5
}
