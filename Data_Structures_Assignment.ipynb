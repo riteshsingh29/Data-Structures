{
 "cells": [
  {
   "cell_type": "markdown",
   "id": "110a8b07",
   "metadata": {},
   "source": [
    "## What are data structures, and why are they important?\n",
    "\n",
    "Data structures are ways of organizing and storing data efficiently. They help in optimizing data manipulation, retrieval, and storage.\n",
    "\n",
    "**Example:** Lists, tuples, dictionaries, and sets are common data structures in Python.\n",
    "## Explain the difference between mutable and immutable data types with examples.\n",
    "\n",
    "Mutable data types can be changed after creation, while immutable types cannot.\n",
    "\n",
    "**Example:**\n",
    "```python\n",
    "# Mutable (List)\n",
    "my_list = [1, 2, 3]\n",
    "my_list.append(4)  # Allowed\n",
    "\n",
    "# Immutable (Tuple)\n",
    "my_tuple = (1, 2, 3)\n",
    "my_tuple[0] = 10  # Error!\n",
    "```\n",
    "## What are the main differences between lists and tuples in Python?\n",
    "\n",
    "Lists are mutable, slower, and can be modified, while tuples are immutable and faster.\n",
    "\n",
    "**Example:**\n",
    "```python\n",
    "my_list = [1, 2, 3]  # Mutable\n",
    "my_tuple = (1, 2, 3)  # Immutable\n",
    "```\n",
    "## Describe how dictionaries store data.\n",
    "\n",
    "Dictionaries store data as key-value pairs using a hash table.\n",
    "\n",
    "**Example:**\n",
    "```python\n",
    "my_dict = {'name': 'Alice', 'age': 25}\n",
    "print(my_dict['name'])  # Output: Alice\n",
    "```\n",
    "## Why might you use a set instead of a list in Python?\n",
    "\n",
    "Sets automatically remove duplicate values and allow fast membership checks.\n",
    "\n",
    "**Example:**\n",
    "```python\n",
    "my_set = {1, 2, 2, 3}\n",
    "print(my_set)  # Output: {1, 2, 3}\n",
    "```\n",
    "## What is a string in Python, and how is it different from a list?\n",
    "\n",
    "A string is a sequence of characters, immutable like a tuple, while a list can hold multiple data types and is mutable.\n",
    "\n",
    "**Example:**\n",
    "```python\n",
    "my_string = 'hello'\n",
    "my_list = ['h', 'e', 'l', 'l', 'o']\n",
    "```\n",
    "## How do tuples ensure data integrity in Python?\n",
    "\n",
    "Tuples are immutable, preventing accidental modifications.\n",
    "\n",
    "**Example:**\n",
    "```python\n",
    "config = ('192.168.1.1', 8080)\n",
    "```\n",
    "## What is a hash table, and how does it relate to dictionaries in Python?\n",
    "\n",
    "A hash table is a data structure that allows fast lookups. Python dictionaries use hash tables to store key-value pairs efficiently.\n",
    "## Can lists contain different data types in Python?\n",
    "\n",
    "Yes, lists in Python can store multiple data types.\n",
    "\n",
    "**Example:**\n",
    "```python\n",
    "mixed_list = [1, 'hello', 3.5, True]\n",
    "```\n",
    "## Explain why strings are immutable in Python.\n",
    "\n",
    "Strings are immutable to ensure security, caching, and performance optimization.\n",
    "\n",
    "**Example:**\n",
    "```python\n",
    "s = 'hello'\n",
    "s[0] = 'H'  # Error!\n",
    "```\n",
    "## What advantages do dictionaries offer over lists for certain tasks?\n",
    "\n",
    "Dictionaries allow fast lookups, while lists require searching sequentially.\n",
    "\n",
    "**Example:**\n",
    "```python\n",
    "my_dict = {'apple': 5, 'banana': 3}\n",
    "print(my_dict['apple'])  # O(1) lookup\n",
    "```\n",
    "## Describe a scenario where using a tuple would be preferable over a list.\n",
    "\n",
    "If data should not change, such as storing configuration settings.\n",
    "\n",
    "**Example:**\n",
    "```python\n",
    "coordinates = (10, 20)\n",
    "```\n",
    "## How do sets handle duplicate values in Python?\n",
    "\n",
    "Sets automatically remove duplicate values.\n",
    "\n",
    "**Example:**\n",
    "```python\n",
    "nums = {1, 2, 2, 3}\n",
    "print(nums)  # Output: {1, 2, 3}\n",
    "```\n",
    "## How does the `in` keyword work differently for lists and dictionaries?\n",
    "\n",
    "`in` checks values in lists but checks keys in dictionaries.\n",
    "\n",
    "**Example:**\n",
    "```python\n",
    "print(3 in [1, 2, 3])  # True\n",
    "print('name' in {'name': 'Alice'})  # True\n",
    "```\n",
    "## Can you modify the elements of a tuple? Explain why or why not.\n",
    "\n",
    "No, tuples are immutable.\n",
    "\n",
    "**Example:**\n",
    "```python\n",
    "t = (1, 2, 3)\n",
    "t[0] = 10  # Error!\n",
    "```\n",
    "## What is a nested dictionary, and give an example of its use case?\n",
    "\n",
    "A nested dictionary contains dictionaries inside it, useful for storing hierarchical data.\n",
    "\n",
    "**Example:**\n",
    "```python\n",
    "users = {\n",
    "    'Alice': {'age': 25, 'city': 'NY'},\n",
    "    'Bob': {'age': 30, 'city': 'LA'}\n",
    "}\n",
    "```\n",
    "## Describe the time complexity of accessing elements in a dictionary.\n",
    "\n",
    "Dictionary lookups have an average time complexity of O(1), making them very efficient.\n",
    "## In what situations are lists preferred over dictionaries?\n",
    "\n",
    "Lists are preferred when order matters or when iterating over data sequentially.\n",
    "\n",
    "**Example:**\n",
    "```python\n",
    "tasks = ['task1', 'task2', 'task3']\n",
    "```\n",
    "## Why are dictionaries considered unordered, and how does that affect data retrieval?\n",
    "\n",
    "Dictionaries in Python versions before 3.7 were unordered, meaning key order was not guaranteed. In Python 3.7+, insertion order is preserved but should not be relied upon in all cases.\n",
    "## Explain the difference between a list and a dictionary in terms of data retrieval.\n",
    "\n",
    "Lists require searching through indexes (O(n) in worst case), while dictionaries offer direct key-based access (O(1) in average case).\n",
    "\n",
    "**Example:**\n",
    "```python\n",
    "my_list = [10, 20, 30]\n",
    "print(my_list[1])  # Index lookup\n",
    "\n",
    "my_dict = {'a': 10, 'b': 20}\n",
    "print(my_dict['b'])  # Key lookup\n",
    "```"
   ]
  },
  {
   "cell_type": "markdown",
   "id": "12b79308",
   "metadata": {},
   "source": [
    "## Create a string with your name and print it"
   ]
  },
  {
   "cell_type": "code",
   "execution_count": 61,
   "id": "aa16b48a",
   "metadata": {},
   "outputs": [
    {
     "name": "stdout",
     "output_type": "stream",
     "text": [
      "Ritesh Singh\n"
     ]
    }
   ],
   "source": [
    "name = \"Ritesh Singh\"\n",
    "print(name)"
   ]
  },
  {
   "cell_type": "markdown",
   "id": "1c8dbe54",
   "metadata": {},
   "source": [
    "## Find the length of the string 'Hello World'"
   ]
  },
  {
   "cell_type": "code",
   "execution_count": 62,
   "id": "65a18cad",
   "metadata": {},
   "outputs": [
    {
     "name": "stdout",
     "output_type": "stream",
     "text": [
      "11\n"
     ]
    }
   ],
   "source": [
    "text = \"Hello World\"\n",
    "print(len(text))"
   ]
  },
  {
   "cell_type": "markdown",
   "id": "033066d1",
   "metadata": {},
   "source": [
    "## Slice the first 3 characters from the string 'Python Programming'"
   ]
  },
  {
   "cell_type": "code",
   "execution_count": 63,
   "id": "04d8b674",
   "metadata": {},
   "outputs": [
    {
     "name": "stdout",
     "output_type": "stream",
     "text": [
      "Pyt\n"
     ]
    }
   ],
   "source": [
    "text = \"Python Programming\"\n",
    "print(text[:3])"
   ]
  },
  {
   "cell_type": "markdown",
   "id": "419814fb",
   "metadata": {},
   "source": [
    "## Convert the string 'hello' to uppercase"
   ]
  },
  {
   "cell_type": "code",
   "execution_count": 64,
   "id": "3b334844",
   "metadata": {},
   "outputs": [
    {
     "name": "stdout",
     "output_type": "stream",
     "text": [
      "HELLO\n"
     ]
    }
   ],
   "source": [
    "text = \"hello\"\n",
    "print(text.upper())"
   ]
  },
  {
   "cell_type": "markdown",
   "id": "1bbd9433",
   "metadata": {},
   "source": [
    "## Replace the word 'apple' with 'orange' in the string 'I like apple'"
   ]
  },
  {
   "cell_type": "code",
   "execution_count": 65,
   "id": "18d2324d",
   "metadata": {},
   "outputs": [
    {
     "name": "stdout",
     "output_type": "stream",
     "text": [
      "I like orange\n"
     ]
    }
   ],
   "source": [
    "text = \"I like apple\"\n",
    "print(text.replace(\"apple\", \"orange\"))"
   ]
  },
  {
   "cell_type": "markdown",
   "id": "c68b78f3",
   "metadata": {},
   "source": [
    "## Create a list with numbers 1 to 5 and print it"
   ]
  },
  {
   "cell_type": "code",
   "execution_count": 66,
   "id": "0a3a41af",
   "metadata": {},
   "outputs": [
    {
     "name": "stdout",
     "output_type": "stream",
     "text": [
      "[1, 2, 3, 4, 5]\n"
     ]
    }
   ],
   "source": [
    "numbers = [1, 2, 3, 4, 5]\n",
    "print(numbers)"
   ]
  },
  {
   "cell_type": "markdown",
   "id": "52f6cd7c",
   "metadata": {},
   "source": [
    "## Append the number 10 to the list [1, 2, 3, 4]"
   ]
  },
  {
   "cell_type": "code",
   "execution_count": 67,
   "id": "5acdb775",
   "metadata": {},
   "outputs": [
    {
     "name": "stdout",
     "output_type": "stream",
     "text": [
      "[1, 2, 3, 4, 10]\n"
     ]
    }
   ],
   "source": [
    "numbers = [1, 2, 3, 4]\n",
    "numbers.append(10)\n",
    "print(numbers)"
   ]
  },
  {
   "cell_type": "markdown",
   "id": "28ddbe5d",
   "metadata": {},
   "source": [
    "## Remove the number 3 from the list [1, 2, 3, 4, 5]"
   ]
  },
  {
   "cell_type": "code",
   "execution_count": 68,
   "id": "52b5f262",
   "metadata": {},
   "outputs": [
    {
     "name": "stdout",
     "output_type": "stream",
     "text": [
      "[1, 2, 4, 5]\n"
     ]
    }
   ],
   "source": [
    "numbers = [1, 2, 3, 4, 5]\n",
    "numbers.remove(3)\n",
    "print(numbers)"
   ]
  },
  {
   "cell_type": "markdown",
   "id": "02a12902",
   "metadata": {},
   "source": [
    "## Access the second element in the list ['a', 'b', 'c', 'd']"
   ]
  },
  {
   "cell_type": "code",
   "execution_count": 69,
   "id": "ece140a0",
   "metadata": {},
   "outputs": [
    {
     "name": "stdout",
     "output_type": "stream",
     "text": [
      "b\n"
     ]
    }
   ],
   "source": [
    "letters = ['a', 'b', 'c', 'd']\n",
    "print(letters[1])"
   ]
  },
  {
   "cell_type": "markdown",
   "id": "ed730cce",
   "metadata": {},
   "source": [
    "## Reverse the list [10, 20, 30, 40, 50]"
   ]
  },
  {
   "cell_type": "code",
   "execution_count": 70,
   "id": "c388022f",
   "metadata": {},
   "outputs": [
    {
     "name": "stdout",
     "output_type": "stream",
     "text": [
      "[50, 40, 30, 20, 10]\n"
     ]
    }
   ],
   "source": [
    "numbers = [10, 20, 30, 40, 50]\n",
    "numbers.reverse()\n",
    "print(numbers)"
   ]
  },
  {
   "cell_type": "markdown",
   "id": "fe592e4e",
   "metadata": {},
   "source": [
    "## Create a tuple with the elements 100, 200, 300 and print it"
   ]
  },
  {
   "cell_type": "code",
   "execution_count": 71,
   "id": "8069a601",
   "metadata": {},
   "outputs": [
    {
     "name": "stdout",
     "output_type": "stream",
     "text": [
      "(100, 200, 300)\n"
     ]
    }
   ],
   "source": [
    "my_tuple = (100, 200, 300)\n",
    "print(my_tuple)"
   ]
  },
  {
   "cell_type": "markdown",
   "id": "d9546e05",
   "metadata": {},
   "source": [
    "## Access the second-to-last element of the tuple ('red', 'green', 'blue', 'yellow')"
   ]
  },
  {
   "cell_type": "code",
   "execution_count": 72,
   "id": "e359f5cc",
   "metadata": {},
   "outputs": [
    {
     "name": "stdout",
     "output_type": "stream",
     "text": [
      "blue\n"
     ]
    }
   ],
   "source": [
    "colors = ('red', 'green', 'blue', 'yellow')\n",
    "print(colors[-2])"
   ]
  },
  {
   "cell_type": "markdown",
   "id": "c2ffb280",
   "metadata": {},
   "source": [
    "## Find the minimum number in the tuple (10, 20, 5, 15)"
   ]
  },
  {
   "cell_type": "code",
   "execution_count": 73,
   "id": "4eddc5ee",
   "metadata": {},
   "outputs": [
    {
     "name": "stdout",
     "output_type": "stream",
     "text": [
      "5\n"
     ]
    }
   ],
   "source": [
    "numbers = (10, 20, 5, 15)\n",
    "print(min(numbers))"
   ]
  },
  {
   "cell_type": "markdown",
   "id": "5c6090cc",
   "metadata": {},
   "source": [
    "## Find the index of the element 'cat' in the tuple ('dog', 'cat', 'rabbit')"
   ]
  },
  {
   "cell_type": "code",
   "execution_count": 74,
   "id": "86e051f2",
   "metadata": {},
   "outputs": [
    {
     "name": "stdout",
     "output_type": "stream",
     "text": [
      "1\n"
     ]
    }
   ],
   "source": [
    "animals = ('dog', 'cat', 'rabbit')\n",
    "print(animals.index('cat'))"
   ]
  },
  {
   "cell_type": "markdown",
   "id": "c521e15b",
   "metadata": {},
   "source": [
    "## Create a tuple containing three different fruits and check if 'kiwi' is in it"
   ]
  },
  {
   "cell_type": "code",
   "execution_count": 75,
   "id": "577ca77b",
   "metadata": {},
   "outputs": [
    {
     "name": "stdout",
     "output_type": "stream",
     "text": [
      "False\n"
     ]
    }
   ],
   "source": [
    "fruits = ('apple', 'banana', 'cherry')\n",
    "print('kiwi' in fruits)"
   ]
  },
  {
   "cell_type": "markdown",
   "id": "bfe7afd5",
   "metadata": {},
   "source": [
    "## Create a set with the elements 'a', 'b', 'c' and print it"
   ]
  },
  {
   "cell_type": "code",
   "execution_count": 76,
   "id": "8bd64c20",
   "metadata": {},
   "outputs": [
    {
     "name": "stdout",
     "output_type": "stream",
     "text": [
      "{'a', 'c', 'b'}\n"
     ]
    }
   ],
   "source": [
    "my_set = {'a', 'b', 'c'}\n",
    "print(my_set)"
   ]
  },
  {
   "cell_type": "markdown",
   "id": "fb88dc4a",
   "metadata": {},
   "source": [
    "## Clear all elements from the set {1, 2, 3, 4, 5}"
   ]
  },
  {
   "cell_type": "code",
   "execution_count": 77,
   "id": "b91982ef",
   "metadata": {},
   "outputs": [
    {
     "name": "stdout",
     "output_type": "stream",
     "text": [
      "set()\n"
     ]
    }
   ],
   "source": [
    "my_set = {1, 2, 3, 4, 5}\n",
    "my_set.clear()\n",
    "print(my_set)"
   ]
  },
  {
   "cell_type": "markdown",
   "id": "b4ea3370",
   "metadata": {},
   "source": [
    "## Remove the element 4 from the set {1, 2, 3, 4}"
   ]
  },
  {
   "cell_type": "code",
   "execution_count": 78,
   "id": "3143c019",
   "metadata": {},
   "outputs": [
    {
     "name": "stdout",
     "output_type": "stream",
     "text": [
      "{1, 2, 3}\n"
     ]
    }
   ],
   "source": [
    "my_set = {1, 2, 3, 4}\n",
    "my_set.remove(4)\n",
    "print(my_set)"
   ]
  },
  {
   "cell_type": "markdown",
   "id": "9e1027e0",
   "metadata": {},
   "source": [
    "## Find the union of two sets {1, 2, 3} and {3, 4, 5}"
   ]
  },
  {
   "cell_type": "code",
   "execution_count": 79,
   "id": "0aed622f",
   "metadata": {},
   "outputs": [
    {
     "name": "stdout",
     "output_type": "stream",
     "text": [
      "{1, 2, 3, 4, 5}\n"
     ]
    }
   ],
   "source": [
    "set1 = {1, 2, 3}\n",
    "set2 = {3, 4, 5}\n",
    "print(set1.union(set2))"
   ]
  },
  {
   "cell_type": "markdown",
   "id": "4ab496a4",
   "metadata": {},
   "source": [
    "## Find the intersection of two sets {1, 2, 3} and {2, 3, 4}"
   ]
  },
  {
   "cell_type": "code",
   "execution_count": 80,
   "id": "ee0e084d",
   "metadata": {},
   "outputs": [
    {
     "name": "stdout",
     "output_type": "stream",
     "text": [
      "{2, 3}\n"
     ]
    }
   ],
   "source": [
    "set1 = {1, 2, 3}\n",
    "set2 = {2, 3, 4}\n",
    "print(set1.intersection(set2))"
   ]
  },
  {
   "cell_type": "markdown",
   "id": "6ccbb2d5",
   "metadata": {},
   "source": [
    "## Create a dictionary with the keys 'name', 'age', and 'city', and print it"
   ]
  },
  {
   "cell_type": "code",
   "execution_count": 81,
   "id": "f2cad27f",
   "metadata": {},
   "outputs": [
    {
     "name": "stdout",
     "output_type": "stream",
     "text": [
      "{'name': 'Ritesh', 'age': 30, 'city': 'New York'}\n"
     ]
    }
   ],
   "source": [
    "person = {\"name\": \"Ritesh\", \"age\": 30, \"city\": \"New York\"}\n",
    "print(person)"
   ]
  },
  {
   "cell_type": "markdown",
   "id": "4af08cb0",
   "metadata": {},
   "source": [
    "## Add a new key-value pair 'country': 'USA' to the dictionary {'name': 'John', 'age': 25}"
   ]
  },
  {
   "cell_type": "code",
   "execution_count": 82,
   "id": "9067790a",
   "metadata": {},
   "outputs": [
    {
     "name": "stdout",
     "output_type": "stream",
     "text": [
      "{'name': 'John', 'age': 25, 'country': 'USA'}\n"
     ]
    }
   ],
   "source": [
    "person = {'name': 'John', 'age': 25}\n",
    "person['country'] = 'USA'\n",
    "print(person)"
   ]
  },
  {
   "cell_type": "markdown",
   "id": "dabdf90c",
   "metadata": {},
   "source": [
    "## Access the value associated with the key 'name' in the dictionary {'name': 'Alice', 'age': 30}"
   ]
  },
  {
   "cell_type": "code",
   "execution_count": 83,
   "id": "77c72227",
   "metadata": {},
   "outputs": [
    {
     "name": "stdout",
     "output_type": "stream",
     "text": [
      "Alice\n"
     ]
    }
   ],
   "source": [
    "person = {'name': 'Alice', 'age': 30}\n",
    "print(person['name'])"
   ]
  },
  {
   "cell_type": "markdown",
   "id": "ca4531b2",
   "metadata": {},
   "source": [
    "## Remove the key 'age' from the dictionary {'name': 'Bob', 'age': 22, 'city': 'New York'}"
   ]
  },
  {
   "cell_type": "code",
   "execution_count": 84,
   "id": "bcaca469",
   "metadata": {},
   "outputs": [
    {
     "name": "stdout",
     "output_type": "stream",
     "text": [
      "{'name': 'Bob', 'city': 'New York'}\n"
     ]
    }
   ],
   "source": [
    "person = {'name': 'Bob', 'age': 22, 'city': 'New York'}\n",
    "del person['age']\n",
    "print(person)"
   ]
  },
  {
   "cell_type": "markdown",
   "id": "bbd8bee6",
   "metadata": {},
   "source": [
    "## Check if the key 'city' exists in the dictionary {'name': 'Alice', 'city': 'Paris'}"
   ]
  },
  {
   "cell_type": "code",
   "execution_count": 85,
   "id": "1308d1e8",
   "metadata": {},
   "outputs": [
    {
     "name": "stdout",
     "output_type": "stream",
     "text": [
      "True\n"
     ]
    }
   ],
   "source": [
    "person = {'name': 'Alice', 'city': 'Paris'}\n",
    "print('city' in person)"
   ]
  },
  {
   "cell_type": "markdown",
   "id": "3add84d5",
   "metadata": {},
   "source": [
    "## Create a list, a tuple, and a dictionary, and print them all"
   ]
  },
  {
   "cell_type": "code",
   "execution_count": 86,
   "id": "0b2ad670",
   "metadata": {},
   "outputs": [
    {
     "name": "stdout",
     "output_type": "stream",
     "text": [
      "[1, 2, 3] (4, 5, 6) {'a': 7, 'b': 8}\n"
     ]
    }
   ],
   "source": [
    "my_list = [1, 2, 3]\n",
    "my_tuple = (4, 5, 6)\n",
    "my_dict = {'a': 7, 'b': 8}\n",
    "print(my_list, my_tuple, my_dict)"
   ]
  },
  {
   "cell_type": "markdown",
   "id": "0186cd44",
   "metadata": {},
   "source": [
    "## Create a list of 5 random numbers between 1 and 100, sort it in ascending order, and print the result"
   ]
  },
  {
   "cell_type": "code",
   "execution_count": 87,
   "id": "516c6337",
   "metadata": {},
   "outputs": [
    {
     "name": "stdout",
     "output_type": "stream",
     "text": [
      "[10, 11, 35, 58, 67]\n"
     ]
    }
   ],
   "source": [
    "import random\n",
    "numbers = random.sample(range(1, 101), 5)\n",
    "numbers.sort()\n",
    "print(numbers)"
   ]
  },
  {
   "cell_type": "markdown",
   "id": "024fff11",
   "metadata": {},
   "source": [
    "## Create a list with strings and print the element at the third index"
   ]
  },
  {
   "cell_type": "code",
   "execution_count": 88,
   "id": "8ba253ba",
   "metadata": {},
   "outputs": [
    {
     "name": "stdout",
     "output_type": "stream",
     "text": [
      "date\n"
     ]
    }
   ],
   "source": [
    "words = ['apple', 'banana', 'cherry', 'date', 'elderberry']\n",
    "print(words[3])"
   ]
  },
  {
   "cell_type": "markdown",
   "id": "84ccab10",
   "metadata": {},
   "source": [
    "## Combine two dictionaries into one and print the result"
   ]
  },
  {
   "cell_type": "code",
   "execution_count": 89,
   "id": "031a68d5",
   "metadata": {},
   "outputs": [
    {
     "name": "stdout",
     "output_type": "stream",
     "text": [
      "{'a': 1, 'b': 2, 'c': 3, 'd': 4}\n"
     ]
    }
   ],
   "source": [
    "dict1 = {'a': 1, 'b': 2}\n",
    "dict2 = {'c': 3, 'd': 4}\n",
    "combined_dict = {**dict1, **dict2}\n",
    "print(combined_dict)"
   ]
  },
  {
   "cell_type": "markdown",
   "id": "a909bf0e",
   "metadata": {},
   "source": [
    "## Convert a list of strings into a set"
   ]
  },
  {
   "cell_type": "code",
   "execution_count": 90,
   "id": "606c74e9",
   "metadata": {},
   "outputs": [
    {
     "name": "stdout",
     "output_type": "stream",
     "text": [
      "{'cherry', 'banana', 'apple'}\n"
     ]
    }
   ],
   "source": [
    "words = ['apple', 'banana', 'cherry', 'apple']\n",
    "words_set = set(words)\n",
    "print(words_set)"
   ]
  }
 ],
 "metadata": {
  "kernelspec": {
   "display_name": "Python 3",
   "language": "python",
   "name": "python3"
  },
  "language_info": {
   "codemirror_mode": {
    "name": "ipython",
    "version": 3
   },
   "file_extension": ".py",
   "mimetype": "text/x-python",
   "name": "python",
   "nbconvert_exporter": "python",
   "pygments_lexer": "ipython3",
   "version": "3.12.2"
  }
 },
 "nbformat": 4,
 "nbformat_minor": 5
}
